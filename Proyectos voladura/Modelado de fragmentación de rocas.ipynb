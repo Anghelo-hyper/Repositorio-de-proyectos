{
 "cells": [
  {
   "cell_type": "markdown",
   "metadata": {},
   "source": [
    "## Modelado de fragmentación de rocas"
   ]
  },
  {
   "cell_type": "markdown",
   "metadata": {},
   "source": [
    "Script para simular y analizar la fragmentación de rocas resultante de las voladuras."
   ]
  },
  {
   "cell_type": "code",
   "execution_count": 1,
   "metadata": {},
   "outputs": [],
   "source": [
    "import numpy as np\n",
    "import matplotlib.pyplot as plt"
   ]
  },
  {
   "cell_type": "code",
   "execution_count": 2,
   "metadata": {},
   "outputs": [],
   "source": [
    "def generar_fragmentos(cantidad, tamanio_medio, desviacion):\n",
    "    \"\"\"Genera datos de fragmentación de rocas simulados.\"\"\"\n",
    "    tamanios = np.random.normal(tamanio_medio, desviacion, cantidad)\n",
    "    tamanios = np.clip(tamanios, 0, None)  # Evita valores negativos\n",
    "    return tamanios"
   ]
  },
  {
   "cell_type": "code",
   "execution_count": 3,
   "metadata": {},
   "outputs": [],
   "source": [
    "def analizar_fragmentacion(tamanios):\n",
    "    \"\"\"Realiza análisis de fragmentación y muestra los resultados.\"\"\"\n",
    "    tamanio_promedio = np.mean(tamanios)\n",
    "    tamanio_maximo = np.max(tamanios)\n",
    "    tamanio_minimo = np.min(tamanios)\n",
    "    tamanio_mediana = np.median(tamanios)\n",
    "    distribucion_tamanios = np.histogram(tamanios, bins='auto')[0]\n",
    "\n",
    "    # Visualización de la distribución de tamaños\n",
    "    plt.figure(figsize=(12, 6))\n",
    "    plt.subplot(1, 2, 1)\n",
    "    plt.hist(tamanios, bins='auto', alpha=0.75)\n",
    "    plt.xlabel('Tamaño de Fragmentos')\n",
    "    plt.ylabel('Frecuencia')\n",
    "    plt.title('Distribución de Tamaños de Fragmentos')\n",
    "    plt.grid(True)\n",
    "\n",
    "    # Visualización del diagrama de caja y bigotes\n",
    "    plt.subplot(1, 2, 2)\n",
    "    plt.boxplot(tamanios, vert=False)\n",
    "    plt.xlabel('Tamaño de Fragmentos')\n",
    "    plt.title('Diagrama de Caja y Bigotes')\n",
    "    plt.grid(True)\n",
    "\n",
    "    plt.tight_layout()\n",
    "    plt.show()\n",
    "\n",
    "    # Impresión de los resultados del análisis\n",
    "    print('Resultados del Análisis de Fragmentación')\n",
    "    print('--------------------------------------')\n",
    "    print('Tamaño Promedio: {:.2f}'.format(tamanio_promedio))\n",
    "    print('Tamaño Máximo: {:.2f}'.format(tamanio_maximo))\n",
    "    print('Tamaño Mínimo: {:.2f}'.format(tamanio_minimo))\n",
    "    print('Tamaño Mediana: {:.2f}'.format(tamanio_mediana))\n",
    "    print('Distribución de Tamaños:', distribucion_tamanios)"
   ]
  },
  {
   "cell_type": "code",
   "execution_count": 4,
   "metadata": {},
   "outputs": [],
   "source": [
    "# Generación de datos de fragmentación simulados\n",
    "cantidad_fragmentos = 1000\n",
    "tamanio_medio = 10.0\n",
    "desviacion = 2.0\n",
    "fragmentos_roca = generar_fragmentos(cantidad_fragmentos, tamanio_medio, desviacion)\n"
   ]
  },
  {
   "cell_type": "code",
   "execution_count": 5,
   "metadata": {},
   "outputs": [
    {
     "data": {
      "image/png": "[encoded data removed]",
      "text/plain": [
       "<Figure size 864x432 with 2 Axes>"
      ]
     },
     "metadata": {
      "needs_background": "light"
     },
     "output_type": "display_data"
    },
    {
     "name": "stdout",
     "output_type": "stream",
     "text": [
      "Resultados del Análisis de Fragmentación\n",
      "--------------------------------------\n",
      "Tamaño Promedio: 10.04\n",
      "Tamaño Máximo: 16.59\n",
      "Tamaño Mínimo: 3.70\n",
      "Tamaño Mediana: 10.06\n",
      "Distribución de Tamaños: [  4   1   3   5   7  16  30  37  69  69  79  92 107 100 100  81  64  44\n",
      "  38  21  14  10   5   3   0   1]\n"
     ]
    }
   ],
   "source": [
    "# Análisis de la fragmentación de rocas\n",
    "analizar_fragmentacion(fragmentos_roca)"
   ]
  }
 ],
 "metadata": {
  "kernelspec": {
   "display_name": "Python 3",
   "language": "python",
   "name": "python3"
  },
  "language_info": {
   "codemirror_mode": {
    "name": "ipython",
    "version": 3
   },
   "file_extension": ".py",
   "mimetype": "text/x-python",
   "name": "python",
   "nbconvert_exporter": "python",
   "pygments_lexer": "ipython3",
   "version": "3.8.5"
  }
 },
 "nbformat": 4,
 "nbformat_minor": 4
}
